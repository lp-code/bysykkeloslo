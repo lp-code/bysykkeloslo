{
 "cells": [
  {
   "cell_type": "code",
   "execution_count": 1,
   "metadata": {},
   "outputs": [],
   "source": [
    "import matplotlib.pyplot as plt\n",
    "import numpy as np\n",
    "import os\n",
    "import pandas as pd\n",
    "import sys\n",
    "\n",
    "project_dir = os.sep.join([os.getcwd(), '..'])\n",
    "sys.path.append(os.sep.join([project_dir, 'src', 'data']))\n",
    "import bysykkel_data\n",
    "\n",
    "\n",
    "%matplotlib inline"
   ]
  },
  {
   "cell_type": "code",
   "execution_count": 2,
   "metadata": {},
   "outputs": [],
   "source": [
    "max_trip_duration = 7200\n",
    "data_dir = os.sep.join([project_dir, 'data', 'raw'])"
   ]
  },
  {
   "cell_type": "code",
   "execution_count": 3,
   "metadata": {},
   "outputs": [],
   "source": [
    "df = bysykkel_data.read_trip_data(data_dir)"
   ]
  },
  {
   "cell_type": "code",
   "execution_count": 4,
   "metadata": {},
   "outputs": [
    {
     "data": {
      "text/plain": [
       "6991532"
      ]
     },
     "execution_count": 4,
     "metadata": {},
     "output_type": "execute_result"
    }
   ],
   "source": [
    "df = bysykkel_data.augment_trip_data(df)\n",
    "len(df.index)"
   ]
  },
  {
   "cell_type": "code",
   "execution_count": 5,
   "metadata": {},
   "outputs": [
    {
     "data": {
      "text/html": [
       "<div>\n",
       "<style scoped>\n",
       "    .dataframe tbody tr th:only-of-type {\n",
       "        vertical-align: middle;\n",
       "    }\n",
       "\n",
       "    .dataframe tbody tr th {\n",
       "        vertical-align: top;\n",
       "    }\n",
       "\n",
       "    .dataframe thead th {\n",
       "        text-align: right;\n",
       "    }\n",
       "</style>\n",
       "<table border=\"1\" class=\"dataframe\">\n",
       "  <thead>\n",
       "    <tr style=\"text-align: right;\">\n",
       "      <th></th>\n",
       "      <th>Start station</th>\n",
       "      <th>Start time</th>\n",
       "      <th>End station</th>\n",
       "      <th>End time</th>\n",
       "      <th>DurationSeconds</th>\n",
       "    </tr>\n",
       "  </thead>\n",
       "  <tbody>\n",
       "    <tr>\n",
       "      <th>0</th>\n",
       "      <td>283.0</td>\n",
       "      <td>2016-10-01 04:00:08</td>\n",
       "      <td>238.0</td>\n",
       "      <td>2016-10-01 04:09:47</td>\n",
       "      <td>579.0</td>\n",
       "    </tr>\n",
       "    <tr>\n",
       "      <th>1</th>\n",
       "      <td>169.0</td>\n",
       "      <td>2016-10-01 04:00:41</td>\n",
       "      <td>175.0</td>\n",
       "      <td>2016-10-01 04:11:07</td>\n",
       "      <td>626.0</td>\n",
       "    </tr>\n",
       "    <tr>\n",
       "      <th>2</th>\n",
       "      <td>211.0</td>\n",
       "      <td>2016-10-01 04:01:02</td>\n",
       "      <td>162.0</td>\n",
       "      <td>2016-10-01 04:15:52</td>\n",
       "      <td>890.0</td>\n",
       "    </tr>\n",
       "    <tr>\n",
       "      <th>3</th>\n",
       "      <td>200.0</td>\n",
       "      <td>2016-10-01 04:01:20</td>\n",
       "      <td>163.0</td>\n",
       "      <td>2016-10-01 04:15:04</td>\n",
       "      <td>824.0</td>\n",
       "    </tr>\n",
       "    <tr>\n",
       "      <th>4</th>\n",
       "      <td>157.0</td>\n",
       "      <td>2016-10-01 04:02:16</td>\n",
       "      <td>163.0</td>\n",
       "      <td>2016-10-01 04:04:29</td>\n",
       "      <td>133.0</td>\n",
       "    </tr>\n",
       "    <tr>\n",
       "      <th>5</th>\n",
       "      <td>177.0</td>\n",
       "      <td>2016-10-01 04:04:22</td>\n",
       "      <td>179.0</td>\n",
       "      <td>2016-10-01 04:24:40</td>\n",
       "      <td>1218.0</td>\n",
       "    </tr>\n",
       "    <tr>\n",
       "      <th>6</th>\n",
       "      <td>257.0</td>\n",
       "      <td>2016-10-01 04:04:39</td>\n",
       "      <td>199.0</td>\n",
       "      <td>2016-10-01 04:16:09</td>\n",
       "      <td>690.0</td>\n",
       "    </tr>\n",
       "    <tr>\n",
       "      <th>7</th>\n",
       "      <td>191.0</td>\n",
       "      <td>2016-10-01 04:05:54</td>\n",
       "      <td>191.0</td>\n",
       "      <td>2016-10-01 04:06:21</td>\n",
       "      <td>27.0</td>\n",
       "    </tr>\n",
       "  </tbody>\n",
       "</table>\n",
       "</div>"
      ],
      "text/plain": [
       "   Start station          Start time  End station            End time  \\\n",
       "0          283.0 2016-10-01 04:00:08        238.0 2016-10-01 04:09:47   \n",
       "1          169.0 2016-10-01 04:00:41        175.0 2016-10-01 04:11:07   \n",
       "2          211.0 2016-10-01 04:01:02        162.0 2016-10-01 04:15:52   \n",
       "3          200.0 2016-10-01 04:01:20        163.0 2016-10-01 04:15:04   \n",
       "4          157.0 2016-10-01 04:02:16        163.0 2016-10-01 04:04:29   \n",
       "5          177.0 2016-10-01 04:04:22        179.0 2016-10-01 04:24:40   \n",
       "6          257.0 2016-10-01 04:04:39        199.0 2016-10-01 04:16:09   \n",
       "7          191.0 2016-10-01 04:05:54        191.0 2016-10-01 04:06:21   \n",
       "\n",
       "   DurationSeconds  \n",
       "0            579.0  \n",
       "1            626.0  \n",
       "2            890.0  \n",
       "3            824.0  \n",
       "4            133.0  \n",
       "5           1218.0  \n",
       "6            690.0  \n",
       "7             27.0  "
      ]
     },
     "execution_count": 5,
     "metadata": {},
     "output_type": "execute_result"
    }
   ],
   "source": [
    "df.head(8)"
   ]
  },
  {
   "cell_type": "code",
   "execution_count": 6,
   "metadata": {},
   "outputs": [
    {
     "data": {
      "text/plain": [
       "6899134"
      ]
     },
     "execution_count": 6,
     "metadata": {},
     "output_type": "execute_result"
    }
   ],
   "source": [
    "df = bysykkel_data.remove_invalid_trips(df, max_trip_duration)\n",
    "len(df.index)"
   ]
  },
  {
   "cell_type": "code",
   "execution_count": 7,
   "metadata": {},
   "outputs": [
    {
     "data": {
      "text/plain": [
       "count    6.899134e+06\n",
       "mean     7.613309e+02\n",
       "std      8.256302e+02\n",
       "min      0.000000e+00\n",
       "1%       2.800000e+01\n",
       "5%       1.320000e+02\n",
       "25%      3.250000e+02\n",
       "50%      5.220000e+02\n",
       "75%      8.600000e+02\n",
       "95%      2.257000e+03\n",
       "99%      4.769000e+03\n",
       "max      7.199000e+03\n",
       "Name: DurationSeconds, dtype: float64"
      ]
     },
     "execution_count": 7,
     "metadata": {},
     "output_type": "execute_result"
    }
   ],
   "source": [
    "df.DurationSeconds.describe([0.01, 0.05, 0.25, 0.5, 0.75, 0.95, 0.99])"
   ]
  },
  {
   "cell_type": "code",
   "execution_count": 8,
   "metadata": {},
   "outputs": [
    {
     "data": {
      "image/png": "[encoded data removed]",
      "text/plain": [
       "<matplotlib.figure.Figure at 0x2061438cfd0>"
      ]
     },
     "metadata": {},
     "output_type": "display_data"
    }
   ],
   "source": [
    "_ = plt.hist(df['DurationSeconds'], bins=range(0, max_trip_duration+1, 120), color='g')\n",
    "_ = plt.xlabel('duration [s]')\n",
    "_ = plt.ylabel('# trips')"
   ]
  },
  {
   "cell_type": "code",
   "execution_count": 9,
   "metadata": {},
   "outputs": [],
   "source": [
    "# plot trips per month"
   ]
  },
  {
   "cell_type": "code",
   "execution_count": null,
   "metadata": {},
   "outputs": [],
   "source": []
  },
  {
   "cell_type": "code",
   "execution_count": null,
   "metadata": {},
   "outputs": [],
   "source": []
  },
  {
   "cell_type": "code",
   "execution_count": 10,
   "metadata": {},
   "outputs": [
    {
     "name": "stdout",
     "output_type": "stream",
     "text": [
      "Done.\n"
     ]
    }
   ],
   "source": [
    "print('Done.')"
   ]
  }
 ],
 "metadata": {
  "kernelspec": {
   "display_name": "Python [conda env:anaconda3]",
   "language": "python",
   "name": "conda-env-anaconda3-py"
  },
  "language_info": {
   "codemirror_mode": {
    "name": "ipython",
    "version": 3
   },
   "file_extension": ".py",
   "mimetype": "text/x-python",
   "name": "python",
   "nbconvert_exporter": "python",
   "pygments_lexer": "ipython3",
   "version": "3.6.4"
  }
 },
 "nbformat": 4,
 "nbformat_minor": 2
}
